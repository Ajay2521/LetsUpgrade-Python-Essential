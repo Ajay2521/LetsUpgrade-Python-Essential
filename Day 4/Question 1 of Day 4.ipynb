{
 "cells": [
  {
   "cell_type": "markdown",
   "metadata": {},
   "source": [
    "# Question 1 of Day 4 "
   ]
  },
  {
   "cell_type": "code",
   "execution_count": 19,
   "metadata": {},
   "outputs": [
    {
     "name": "stdout",
     "output_type": "stream",
     "text": [
      "The first armstrong number is : 1741725\n"
     ]
    }
   ],
   "source": [
    "# finding the first armstrong number from range 1042000 to 702648265 using while loop\n",
    "\n",
    "n = 1042000\n",
    "\n",
    "while n <= 702648265:\n",
    "\n",
    "    order = len(str(n))\n",
    "    \n",
    "    s=0\n",
    "\n",
    "    num = n\n",
    "    \n",
    "    while num > 0:\n",
    "        \n",
    "        digit = num % 10\n",
    "        \n",
    "        s += digit ** order\n",
    "        \n",
    "        num //= 10\n",
    "\n",
    "    if n == s:\n",
    "        print(\"The first armstrong number is :\",n)\n",
    "        break\n",
    "    \n",
    "    n += 1"
   ]
  },
  {
   "cell_type": "code",
   "execution_count": null,
   "metadata": {},
   "outputs": [],
   "source": []
  },
  {
   "cell_type": "code",
   "execution_count": null,
   "metadata": {},
   "outputs": [],
   "source": []
  }
 ],
 "metadata": {
  "kernelspec": {
   "display_name": "Python 3",
   "language": "python",
   "name": "python3"
  },
  "language_info": {
   "codemirror_mode": {
    "name": "ipython",
    "version": 3
   },
   "file_extension": ".py",
   "mimetype": "text/x-python",
   "name": "python",
   "nbconvert_exporter": "python",
   "pygments_lexer": "ipython3",
   "version": "3.7.8"
  }
 },
 "nbformat": 4,
 "nbformat_minor": 4
}
