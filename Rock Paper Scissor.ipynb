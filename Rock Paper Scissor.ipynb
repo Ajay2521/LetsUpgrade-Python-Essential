{
 "cells": [
  {
   "cell_type": "markdown",
   "metadata": {},
   "source": [
    "# ROCK - PAPER - SCISSORS using Python"
   ]
  },
  {
   "cell_type": "code",
   "execution_count": null,
   "metadata": {},
   "outputs": [],
   "source": []
  },
  {
   "cell_type": "code",
   "execution_count": 2,
   "metadata": {},
   "outputs": [],
   "source": [
    "# function to get user input value\n",
    "\n",
    "def playerInput():\n",
    "    \n",
    "    player = \"\"\n",
    "    \n",
    "    while not( player.lower() == \"r\" or player.lower() == \"p\" or player.lower() == \"s\") :\n",
    "    \n",
    "        player = input(\"\\nPlease Enter your input out of - R | P | S = \")\n",
    "    \n",
    "    return player.lower()"
   ]
  },
  {
   "cell_type": "code",
   "execution_count": null,
   "metadata": {},
   "outputs": [],
   "source": []
  },
  {
   "cell_type": "code",
   "execution_count": 3,
   "metadata": {},
   "outputs": [
    {
     "name": "stdin",
     "output_type": "stream",
     "text": [
      "\n",
      "Please Enter your input out of - R | P | S =  S\n"
     ]
    },
    {
     "data": {
      "text/plain": [
       "'s'"
      ]
     },
     "execution_count": 3,
     "metadata": {},
     "output_type": "execute_result"
    }
   ],
   "source": [
    "playerInput()"
   ]
  },
  {
   "cell_type": "code",
   "execution_count": null,
   "metadata": {},
   "outputs": [],
   "source": []
  },
  {
   "cell_type": "code",
   "execution_count": 4,
   "metadata": {},
   "outputs": [],
   "source": [
    "# Function to generate automated Bot input\n",
    "\n",
    "import random \n",
    "\n",
    "def botInput():\n",
    "    \n",
    "    lst = ['r','s','p']\n",
    "    \n",
    "    return random.choice(lst)\n"
   ]
  },
  {
   "cell_type": "code",
   "execution_count": null,
   "metadata": {},
   "outputs": [],
   "source": []
  },
  {
   "cell_type": "code",
   "execution_count": 5,
   "metadata": {},
   "outputs": [
    {
     "data": {
      "text/plain": [
       "'p'"
      ]
     },
     "execution_count": 5,
     "metadata": {},
     "output_type": "execute_result"
    }
   ],
   "source": [
    "botInput()"
   ]
  },
  {
   "cell_type": "code",
   "execution_count": 6,
   "metadata": {},
   "outputs": [
    {
     "data": {
      "text/plain": [
       "'s'"
      ]
     },
     "execution_count": 6,
     "metadata": {},
     "output_type": "execute_result"
    }
   ],
   "source": [
    "botInput()"
   ]
  },
  {
   "cell_type": "code",
   "execution_count": null,
   "metadata": {},
   "outputs": [],
   "source": []
  },
  {
   "cell_type": "code",
   "execution_count": 7,
   "metadata": {},
   "outputs": [],
   "source": [
    "# rules to win the match\n",
    "\n",
    "def rules(player, bot):\n",
    "\n",
    "    if player == 'r' and bot == \"r\":\n",
    "        \n",
    "        return \"draw\"\n",
    "    \n",
    "    elif player == \"s\" and bot == \"s\":\n",
    "        \n",
    "        return \"draw\"\n",
    "    \n",
    "    elif player == \"p\" and bot == \"p\":\n",
    "        \n",
    "        return \"draw\"\n",
    "    \n",
    "    elif player == \"r\" and bot == \"s\":\n",
    "        \n",
    "        return \"player\"\n",
    "    \n",
    "    elif player == \"r\" and bot == \"p\":\n",
    "        \n",
    "        return \"bot\"\n",
    "    \n",
    "    elif player == \"p\" and bot == \"r\":\n",
    "        \n",
    "        return \"player\"\n",
    "    \n",
    "    elif player == \"p\" and bot == \"s\":\n",
    "        \n",
    "        return \"bot\"\n",
    " \n",
    "    elif player == \"s\" and bot == \"p\":\n",
    "\n",
    "        return \"player\"   \n",
    "\n",
    "    elif player == \"s\" and bot == \"r\":\n",
    "        \n",
    "        return \"bot\"\n",
    "    \n",
    "   \n",
    "    "
   ]
  },
  {
   "cell_type": "code",
   "execution_count": null,
   "metadata": {},
   "outputs": [],
   "source": []
  },
  {
   "cell_type": "code",
   "execution_count": 8,
   "metadata": {},
   "outputs": [
    {
     "data": {
      "text/plain": [
       "'player'"
      ]
     },
     "execution_count": 8,
     "metadata": {},
     "output_type": "execute_result"
    }
   ],
   "source": [
    "rules(\"s\",\"p\")"
   ]
  },
  {
   "cell_type": "code",
   "execution_count": null,
   "metadata": {},
   "outputs": [],
   "source": []
  },
  {
   "cell_type": "code",
   "execution_count": 11,
   "metadata": {},
   "outputs": [],
   "source": [
    "# main function which is used to call all the other function\n",
    "\n",
    "def startGame():\n",
    "    \n",
    "    end = \"\"\n",
    "    \n",
    "    player_score = 0 \n",
    "    \n",
    "    bot_score = 0\n",
    "    \n",
    "    while end.lower() != \"n\":\n",
    "        \n",
    "        print('\\nROCK - R , PAPER - R, SCISSOR - S')\n",
    "        \n",
    "        print()\n",
    "        \n",
    "        p = playerInput()\n",
    "        \n",
    "        print('\\nPlayer Entered -', p)\n",
    "        \n",
    "        b = botInput()\n",
    "        \n",
    "        print('\\nBot Entered -', b)\n",
    "        \n",
    "        print()\n",
    "        \n",
    "        winner = rules(p, b)\n",
    "        \n",
    "        print(\"\\nWinner is -\", winner)\n",
    "        \n",
    "        print()\n",
    " \n",
    "        if winner == \"player\":\n",
    "        \n",
    "            player_score += 10\n",
    "            \n",
    "        elif winner == \"bot\":\n",
    "            \n",
    "            bot_score += 10\n",
    "            \n",
    "        else :\n",
    "            \n",
    "            player_score += 5\n",
    "            \n",
    "            bot_score += 5\n",
    "            \n",
    "        print(\"\\n-----Score Board-----\")\n",
    "        \n",
    "        print(\"\\nPLAYER -\",player_score)\n",
    "        \n",
    "        print(\"\\nBot -\",bot_score)\n",
    "        \n",
    "        print()\n",
    "        \n",
    "        end = input(\"\\nDo You want to continue ( Y/N ) - \")\n",
    "        \n",
    "        if( end.lower() == \"n\" ):\n",
    "            \n",
    "            print(\"\\nGAME OVER\")\n",
    "            \n",
    "            print(\"\\n-----FINAL SCORE BOARD-----\")\n",
    "        \n",
    "            print(\"\\nPLAYER -\",player_score)\n",
    "        \n",
    "            print(\"\\nBot -\",bot_score)"
   ]
  },
  {
   "cell_type": "code",
   "execution_count": null,
   "metadata": {},
   "outputs": [],
   "source": []
  },
  {
   "cell_type": "code",
   "execution_count": 13,
   "metadata": {},
   "outputs": [
    {
     "name": "stdout",
     "output_type": "stream",
     "text": [
      "\n",
      "ROCK - R , PAPER - R, SCISSOR - S\n"
     ]
    },
    {
     "name": "stdin",
     "output_type": "stream",
     "text": [
      "\n",
      "Please Enter your input out of - R | P | S =  S\n"
     ]
    },
    {
     "name": "stdout",
     "output_type": "stream",
     "text": [
      "\n",
      "\n",
      "Player Entered - s\n",
      "\n",
      "Bot Entered - p\n",
      "\n",
      "\n",
      "Winner is - player\n",
      "\n",
      "\n",
      "-----Score Board-----\n",
      "\n",
      "PLAYER - 10\n",
      "\n",
      "Bot - 0\n",
      "\n"
     ]
    },
    {
     "name": "stdin",
     "output_type": "stream",
     "text": [
      "\n",
      "Do You want to continue ( Y/N ) -  Y\n"
     ]
    },
    {
     "name": "stdout",
     "output_type": "stream",
     "text": [
      "\n",
      "ROCK - R , PAPER - R, SCISSOR - S\n"
     ]
    },
    {
     "name": "stdin",
     "output_type": "stream",
     "text": [
      "\n",
      "Please Enter your input out of - R | P | S =  R\n"
     ]
    },
    {
     "name": "stdout",
     "output_type": "stream",
     "text": [
      "\n",
      "\n",
      "Player Entered - r\n",
      "\n",
      "Bot Entered - s\n",
      "\n",
      "\n",
      "Winner is - player\n",
      "\n",
      "\n",
      "-----Score Board-----\n",
      "\n",
      "PLAYER - 20\n",
      "\n",
      "Bot - 0\n",
      "\n"
     ]
    },
    {
     "name": "stdin",
     "output_type": "stream",
     "text": [
      "\n",
      "Do You want to continue ( Y/N ) -  y\n"
     ]
    },
    {
     "name": "stdout",
     "output_type": "stream",
     "text": [
      "\n",
      "ROCK - R , PAPER - R, SCISSOR - S\n"
     ]
    },
    {
     "name": "stdin",
     "output_type": "stream",
     "text": [
      "\n",
      "Please Enter your input out of - R | P | S =  P\n"
     ]
    },
    {
     "name": "stdout",
     "output_type": "stream",
     "text": [
      "\n",
      "\n",
      "Player Entered - p\n",
      "\n",
      "Bot Entered - r\n",
      "\n",
      "\n",
      "Winner is - player\n",
      "\n",
      "\n",
      "-----Score Board-----\n",
      "\n",
      "PLAYER - 30\n",
      "\n",
      "Bot - 0\n",
      "\n"
     ]
    },
    {
     "name": "stdin",
     "output_type": "stream",
     "text": [
      "\n",
      "Do You want to continue ( Y/N ) -  y\n"
     ]
    },
    {
     "name": "stdout",
     "output_type": "stream",
     "text": [
      "\n",
      "ROCK - R , PAPER - R, SCISSOR - S\n"
     ]
    },
    {
     "name": "stdin",
     "output_type": "stream",
     "text": [
      "\n",
      "Please Enter your input out of - R | P | S =  P\n"
     ]
    },
    {
     "name": "stdout",
     "output_type": "stream",
     "text": [
      "\n",
      "\n",
      "Player Entered - p\n",
      "\n",
      "Bot Entered - p\n",
      "\n",
      "\n",
      "Winner is - draw\n",
      "\n",
      "\n",
      "-----Score Board-----\n",
      "\n",
      "PLAYER - 35\n",
      "\n",
      "Bot - 5\n",
      "\n"
     ]
    },
    {
     "name": "stdin",
     "output_type": "stream",
     "text": [
      "\n",
      "Do You want to continue ( Y/N ) -  y\n"
     ]
    },
    {
     "name": "stdout",
     "output_type": "stream",
     "text": [
      "\n",
      "ROCK - R , PAPER - R, SCISSOR - S\n"
     ]
    },
    {
     "name": "stdin",
     "output_type": "stream",
     "text": [
      "\n",
      "Please Enter your input out of - R | P | S =  r\n"
     ]
    },
    {
     "name": "stdout",
     "output_type": "stream",
     "text": [
      "\n",
      "\n",
      "Player Entered - r\n",
      "\n",
      "Bot Entered - r\n",
      "\n",
      "\n",
      "Winner is - draw\n",
      "\n",
      "\n",
      "-----Score Board-----\n",
      "\n",
      "PLAYER - 40\n",
      "\n",
      "Bot - 10\n",
      "\n"
     ]
    },
    {
     "name": "stdin",
     "output_type": "stream",
     "text": [
      "\n",
      "Do You want to continue ( Y/N ) -  N\n"
     ]
    },
    {
     "name": "stdout",
     "output_type": "stream",
     "text": [
      "\n",
      "GAME OVER\n",
      "\n",
      "-----FINAL SCORE BOARD-----\n",
      "\n",
      "PLAYER - 40\n",
      "\n",
      "Bot - 10\n"
     ]
    }
   ],
   "source": [
    "startGame()"
   ]
  },
  {
   "cell_type": "code",
   "execution_count": null,
   "metadata": {},
   "outputs": [],
   "source": []
  }
 ],
 "metadata": {
  "kernelspec": {
   "display_name": "Python 3",
   "language": "python",
   "name": "python3"
  },
  "language_info": {
   "codemirror_mode": {
    "name": "ipython",
    "version": 3
   },
   "file_extension": ".py",
   "mimetype": "text/x-python",
   "name": "python",
   "nbconvert_exporter": "python",
   "pygments_lexer": "ipython3",
   "version": "3.7.8"
  }
 },
 "nbformat": 4,
 "nbformat_minor": 4
}
