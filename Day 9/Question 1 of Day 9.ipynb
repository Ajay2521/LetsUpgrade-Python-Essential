{
 "cells": [
  {
   "cell_type": "markdown",
   "metadata": {},
   "source": [
    "# Question 1 for Day 9"
   ]
  },
  {
   "cell_type": "code",
   "execution_count": null,
   "metadata": {},
   "outputs": [],
   "source": []
  },
  {
   "cell_type": "code",
   "execution_count": 10,
   "metadata": {},
   "outputs": [
    {
     "name": "stdout",
     "output_type": "stream",
     "text": [
      "Requirement already satisfied: pylint in /srv/conda/envs/notebook/lib/python3.7/site-packages (2.6.0)\n",
      "Requirement already satisfied: isort<6,>=4.2.5 in /srv/conda/envs/notebook/lib/python3.7/site-packages (from pylint) (5.5.2)\n",
      "Requirement already satisfied: mccabe<0.7,>=0.6 in /srv/conda/envs/notebook/lib/python3.7/site-packages (from pylint) (0.6.1)\n",
      "Requirement already satisfied: toml>=0.7.1 in /srv/conda/envs/notebook/lib/python3.7/site-packages (from pylint) (0.10.1)\n",
      "Requirement already satisfied: astroid<=2.5,>=2.4.0 in /srv/conda/envs/notebook/lib/python3.7/site-packages (from pylint) (2.4.2)\n",
      "Requirement already satisfied: lazy-object-proxy==1.4.* in /srv/conda/envs/notebook/lib/python3.7/site-packages (from astroid<=2.5,>=2.4.0->pylint) (1.4.3)\n",
      "Requirement already satisfied: wrapt~=1.11 in /srv/conda/envs/notebook/lib/python3.7/site-packages (from astroid<=2.5,>=2.4.0->pylint) (1.12.1)\n",
      "Requirement already satisfied: six~=1.12 in /srv/conda/envs/notebook/lib/python3.7/site-packages (from astroid<=2.5,>=2.4.0->pylint) (1.15.0)\n",
      "Requirement already satisfied: typed-ast<1.5,>=1.4.0; implementation_name == \"cpython\" and python_version < \"3.8\" in /srv/conda/envs/notebook/lib/python3.7/site-packages (from astroid<=2.5,>=2.4.0->pylint) (1.4.1)\n"
     ]
    }
   ],
   "source": [
    "# downloading pylint\n",
    "\n",
    "! pip install pylint"
   ]
  },
  {
   "cell_type": "code",
   "execution_count": null,
   "metadata": {},
   "outputs": [],
   "source": []
  },
  {
   "cell_type": "code",
   "execution_count": null,
   "metadata": {},
   "outputs": [],
   "source": []
  },
  {
   "cell_type": "code",
   "execution_count": 25,
   "metadata": {},
   "outputs": [
    {
     "name": "stdout",
     "output_type": "stream",
     "text": [
      "Overwriting prime.py\n"
     ]
    }
   ],
   "source": [
    "\n",
    "%%writefile prime.py\n",
    "\n",
    "'''\n",
    "Creating a python file for finding whethere the given number is prime number or not.\n",
    "'''\n",
    "\n",
    "def is_prime(given_no):\n",
    "    '''\n",
    "    function to check for prime number.\n",
    "    '''\n",
    "    if given_no >= 1:\n",
    "        for i in range(2, given_no):\n",
    "            if (given_no % i) == 0:\n",
    "                final_result=\"Not Prime\"\n",
    "            else:\n",
    "                final_result=\"Prime\"\n",
    "    else:\n",
    "        final_result=\"Not Prime\"\n",
    "    return final_result\n"
   ]
  },
  {
   "cell_type": "code",
   "execution_count": null,
   "metadata": {},
   "outputs": [],
   "source": []
  },
  {
   "cell_type": "code",
   "execution_count": 26,
   "metadata": {},
   "outputs": [
    {
     "name": "stdout",
     "output_type": "stream",
     "text": [
      "\n",
      "-------------------------------------------------------------------\n",
      "Your code has been rated at 10.00/10 (previous run: 8.75/10, +1.25)\n",
      "\n"
     ]
    }
   ],
   "source": [
    "! pylint \"prime.py\""
   ]
  },
  {
   "cell_type": "code",
   "execution_count": null,
   "metadata": {},
   "outputs": [],
   "source": []
  },
  {
   "cell_type": "code",
   "execution_count": 1,
   "metadata": {},
   "outputs": [
    {
     "name": "stdout",
     "output_type": "stream",
     "text": [
      "Writing primeUnitTest.py\n"
     ]
    }
   ],
   "source": [
    "%%writefile primeUnitTest.py\n",
    "\n",
    "import unittest\n",
    "import prime\n",
    "\n",
    "class testPrime(unittest.TestCase):\n",
    "    def testSinglePrime(self):\n",
    "        a = 3\n",
    "        result = prime.is_prime(a)\n",
    "        self.assertEquals(result, \"Prime\")\n",
    "        \n",
    "    def testingDoublePrime(self):\n",
    "        b = 11 \n",
    "        result = prime.is_prime(b)\n",
    "        self.assertEquals(result, \"Prime\")\n",
    "\n",
    "if __name__ == \"__main__\":\n",
    "    unittest.main()"
   ]
  },
  {
   "cell_type": "code",
   "execution_count": null,
   "metadata": {},
   "outputs": [],
   "source": []
  },
  {
   "cell_type": "code",
   "execution_count": 2,
   "metadata": {},
   "outputs": [
    {
     "name": "stdout",
     "output_type": "stream",
     "text": [
      "primeUnitTest.py:9: DeprecationWarning: Please use assertEqual instead.\n",
      "  self.assertEquals(result, \"Prime\")\n",
      "..\n",
      "----------------------------------------------------------------------\n",
      "Ran 2 tests in 0.000s\n",
      "\n",
      "OK\n"
     ]
    }
   ],
   "source": [
    "! python \"primeUnitTest.py\""
   ]
  },
  {
   "cell_type": "code",
   "execution_count": null,
   "metadata": {},
   "outputs": [],
   "source": []
  },
  {
   "cell_type": "code",
   "execution_count": null,
   "metadata": {},
   "outputs": [],
   "source": []
  },
  {
   "cell_type": "code",
   "execution_count": null,
   "metadata": {},
   "outputs": [],
   "source": []
  }
 ],
 "metadata": {
  "kernelspec": {
   "display_name": "Python 3",
   "language": "python",
   "name": "python3"
  },
  "language_info": {
   "codemirror_mode": {
    "name": "ipython",
    "version": 3
   },
   "file_extension": ".py",
   "mimetype": "text/x-python",
   "name": "python",
   "nbconvert_exporter": "python",
   "pygments_lexer": "ipython3",
   "version": "3.7.8"
  }
 },
 "nbformat": 4,
 "nbformat_minor": 4
}
